{
 "cells": [
  {
   "cell_type": "markdown",
   "id": "ad5ae8a0-3dee-416b-a410-d7111d7f8dc3",
   "metadata": {},
   "source": [
    "#Importing the dependencies"
   ]
  },
  {
   "cell_type": "code",
   "execution_count": 1,
   "id": "a87f0a58-98b3-456b-a4c1-8150982e9566",
   "metadata": {},
   "outputs": [],
   "source": [
    "import numpy as np \n",
    "import pandas as pd \n",
    "import matplotlib.pyplot as plt\n",
    "import seaborn as sns\n",
    "from sklearn.metrics import roc_auc_score,roc_curve\n",
    "from sklearn.model_selection import train_test_split\n",
    "from sklearn.metrics import accuracy_score ,confusion_matrix,classification_report\n",
    "from sklearn.linear_model import LogisticRegression\n",
    "from sklearn.neighbors import KNeighborsClassifier\n",
    "from sklearn.svm import SVC\n",
    "from sklearn.tree import DecisionTreeClassifier\n",
    "from sklearn.preprocessing import StandardScaler"
   ]
  },
  {
   "cell_type": "markdown",
   "id": "e1f754ee-bafe-4a44-a8ba-3dd2f841a20f",
   "metadata": {},
   "source": [
    "## Data Collection and Data Preprocessing"
   ]
  },
  {
   "cell_type": "code",
   "execution_count": 2,
   "id": "707f9441-de23-468a-9efb-df8d152ef64d",
   "metadata": {},
   "outputs": [],
   "source": [
    "### Loading a dataset to a pandas dataframe\n",
    "df = pd.read_csv(\"Bank dataset.csv\")"
   ]
  },
  {
   "cell_type": "code",
   "execution_count": 3,
   "id": "d5e71445-8fca-4753-8f4d-8dc6b639e1d2",
   "metadata": {},
   "outputs": [
    {
     "data": {
      "text/html": [
       "<div>\n",
       "<style scoped>\n",
       "    .dataframe tbody tr th:only-of-type {\n",
       "        vertical-align: middle;\n",
       "    }\n",
       "\n",
       "    .dataframe tbody tr th {\n",
       "        vertical-align: top;\n",
       "    }\n",
       "\n",
       "    .dataframe thead th {\n",
       "        text-align: right;\n",
       "    }\n",
       "</style>\n",
       "<table border=\"1\" class=\"dataframe\">\n",
       "  <thead>\n",
       "    <tr style=\"text-align: right;\">\n",
       "      <th></th>\n",
       "      <th>occupation</th>\n",
       "      <th>age</th>\n",
       "      <th>education_level</th>\n",
       "      <th>marital_status</th>\n",
       "      <th>communication_channel</th>\n",
       "      <th>call_month</th>\n",
       "      <th>call_day</th>\n",
       "      <th>call_duration</th>\n",
       "      <th>call_frequency</th>\n",
       "      <th>previous_campaign_outcome</th>\n",
       "      <th>conversion_status</th>\n",
       "    </tr>\n",
       "  </thead>\n",
       "  <tbody>\n",
       "    <tr>\n",
       "      <th>0</th>\n",
       "      <td>administrative_staff</td>\n",
       "      <td>28</td>\n",
       "      <td>high_school</td>\n",
       "      <td>married</td>\n",
       "      <td>unidentified</td>\n",
       "      <td>September</td>\n",
       "      <td>9</td>\n",
       "      <td>1</td>\n",
       "      <td>1</td>\n",
       "      <td>successful</td>\n",
       "      <td>not_converted</td>\n",
       "    </tr>\n",
       "    <tr>\n",
       "      <th>1</th>\n",
       "      <td>administrative_staff</td>\n",
       "      <td>58</td>\n",
       "      <td>unidentified</td>\n",
       "      <td>married</td>\n",
       "      <td>unidentified</td>\n",
       "      <td>June</td>\n",
       "      <td>5</td>\n",
       "      <td>307</td>\n",
       "      <td>2</td>\n",
       "      <td>unidentified</td>\n",
       "      <td>not_converted</td>\n",
       "    </tr>\n",
       "    <tr>\n",
       "      <th>2</th>\n",
       "      <td>jobless</td>\n",
       "      <td>40</td>\n",
       "      <td>high_school</td>\n",
       "      <td>divorced</td>\n",
       "      <td>mobile</td>\n",
       "      <td>February</td>\n",
       "      <td>4</td>\n",
       "      <td>113</td>\n",
       "      <td>1</td>\n",
       "      <td>unidentified</td>\n",
       "      <td>not_converted</td>\n",
       "    </tr>\n",
       "    <tr>\n",
       "      <th>3</th>\n",
       "      <td>retired_worker</td>\n",
       "      <td>63</td>\n",
       "      <td>high_school</td>\n",
       "      <td>married</td>\n",
       "      <td>mobile</td>\n",
       "      <td>April</td>\n",
       "      <td>7</td>\n",
       "      <td>72</td>\n",
       "      <td>5</td>\n",
       "      <td>unidentified</td>\n",
       "      <td>not_converted</td>\n",
       "    </tr>\n",
       "    <tr>\n",
       "      <th>4</th>\n",
       "      <td>business_owner</td>\n",
       "      <td>43</td>\n",
       "      <td>college</td>\n",
       "      <td>married</td>\n",
       "      <td>landline</td>\n",
       "      <td>July</td>\n",
       "      <td>29</td>\n",
       "      <td>184</td>\n",
       "      <td>4</td>\n",
       "      <td>unidentified</td>\n",
       "      <td>not_converted</td>\n",
       "    </tr>\n",
       "  </tbody>\n",
       "</table>\n",
       "</div>"
      ],
      "text/plain": [
       "             occupation  age education_level marital_status  \\\n",
       "0  administrative_staff   28     high_school        married   \n",
       "1  administrative_staff   58    unidentified        married   \n",
       "2               jobless   40     high_school       divorced   \n",
       "3        retired_worker   63     high_school        married   \n",
       "4        business_owner   43         college        married   \n",
       "\n",
       "  communication_channel call_month  call_day  call_duration  call_frequency  \\\n",
       "0          unidentified  September         9              1               1   \n",
       "1          unidentified       June         5            307               2   \n",
       "2                mobile   February         4            113               1   \n",
       "3                mobile      April         7             72               5   \n",
       "4              landline       July        29            184               4   \n",
       "\n",
       "  previous_campaign_outcome conversion_status  \n",
       "0                successful     not_converted  \n",
       "1              unidentified     not_converted  \n",
       "2              unidentified     not_converted  \n",
       "3              unidentified     not_converted  \n",
       "4              unidentified     not_converted  "
      ]
     },
     "execution_count": 3,
     "metadata": {},
     "output_type": "execute_result"
    }
   ],
   "source": [
    "# Loading First 5 Rows of our dataset\n",
    "df.head()"
   ]
  },
  {
   "cell_type": "code",
   "execution_count": 5,
   "id": "59eeeedd-fc94-41e5-8386-c5602aaf1c51",
   "metadata": {},
   "outputs": [
    {
     "data": {
      "text/plain": [
       "(45211, 11)"
      ]
     },
     "execution_count": 5,
     "metadata": {},
     "output_type": "execute_result"
    }
   ],
   "source": [
    "# To find NUmber of coloumn and rows\n",
    "df.shape"
   ]
  },
  {
   "cell_type": "markdown",
   "id": "0699c17c-da76-4916-8340-b686e0fce4bc",
   "metadata": {},
   "source": [
    "* <font size = \"4\">Number of rows = 45211\n",
    "* <font size = \"4\">Number of coloumns = 11"
   ]
  },
  {
   "cell_type": "code",
   "execution_count": 6,
   "id": "5306af65-5e9e-4020-abfd-1c7c793aaf37",
   "metadata": {},
   "outputs": [
    {
     "name": "stdout",
     "output_type": "stream",
     "text": [
      "<class 'pandas.core.frame.DataFrame'>\n",
      "RangeIndex: 45211 entries, 0 to 45210\n",
      "Data columns (total 11 columns):\n",
      " #   Column                     Non-Null Count  Dtype \n",
      "---  ------                     --------------  ----- \n",
      " 0   occupation                 45211 non-null  object\n",
      " 1   age                        45211 non-null  int64 \n",
      " 2   education_level            45211 non-null  object\n",
      " 3   marital_status             45211 non-null  object\n",
      " 4   communication_channel      45211 non-null  object\n",
      " 5   call_month                 45211 non-null  object\n",
      " 6   call_day                   45211 non-null  int64 \n",
      " 7   call_duration              45211 non-null  int64 \n",
      " 8   call_frequency             45211 non-null  int64 \n",
      " 9   previous_campaign_outcome  45211 non-null  object\n",
      " 10  conversion_status          45211 non-null  object\n",
      "dtypes: int64(4), object(7)\n",
      "memory usage: 3.8+ MB\n"
     ]
    }
   ],
   "source": [
    "df.info()"
   ]
  },
  {
   "cell_type": "markdown",
   "id": "68d118b3-0349-49d6-abc9-6c8d85ed22a7",
   "metadata": {},
   "source": [
    "#<font size = \"4\"> \"info\" provides information about the dataset, such as its shape, data types, missing values, or basic statistics.THere are 45211 entries in our dataframe, in which 4 are integer and 7 are in object dtype."
   ]
  },
  {
   "cell_type": "code",
   "execution_count": 7,
   "id": "fa0df1a0-4978-4b27-8e35-dff084397282",
   "metadata": {},
   "outputs": [
    {
     "data": {
      "text/html": [
       "<div>\n",
       "<style scoped>\n",
       "    .dataframe tbody tr th:only-of-type {\n",
       "        vertical-align: middle;\n",
       "    }\n",
       "\n",
       "    .dataframe tbody tr th {\n",
       "        vertical-align: top;\n",
       "    }\n",
       "\n",
       "    .dataframe thead th {\n",
       "        text-align: right;\n",
       "    }\n",
       "</style>\n",
       "<table border=\"1\" class=\"dataframe\">\n",
       "  <thead>\n",
       "    <tr style=\"text-align: right;\">\n",
       "      <th></th>\n",
       "      <th>age</th>\n",
       "      <th>call_day</th>\n",
       "      <th>call_duration</th>\n",
       "      <th>call_frequency</th>\n",
       "    </tr>\n",
       "  </thead>\n",
       "  <tbody>\n",
       "    <tr>\n",
       "      <th>count</th>\n",
       "      <td>45211.000000</td>\n",
       "      <td>45211.000000</td>\n",
       "      <td>45211.000000</td>\n",
       "      <td>45211.000000</td>\n",
       "    </tr>\n",
       "    <tr>\n",
       "      <th>mean</th>\n",
       "      <td>40.936210</td>\n",
       "      <td>15.806419</td>\n",
       "      <td>258.163080</td>\n",
       "      <td>2.763841</td>\n",
       "    </tr>\n",
       "    <tr>\n",
       "      <th>std</th>\n",
       "      <td>10.618762</td>\n",
       "      <td>8.322476</td>\n",
       "      <td>257.527812</td>\n",
       "      <td>3.098021</td>\n",
       "    </tr>\n",
       "    <tr>\n",
       "      <th>min</th>\n",
       "      <td>18.000000</td>\n",
       "      <td>1.000000</td>\n",
       "      <td>0.000000</td>\n",
       "      <td>1.000000</td>\n",
       "    </tr>\n",
       "    <tr>\n",
       "      <th>25%</th>\n",
       "      <td>33.000000</td>\n",
       "      <td>8.000000</td>\n",
       "      <td>103.000000</td>\n",
       "      <td>1.000000</td>\n",
       "    </tr>\n",
       "    <tr>\n",
       "      <th>50%</th>\n",
       "      <td>39.000000</td>\n",
       "      <td>16.000000</td>\n",
       "      <td>180.000000</td>\n",
       "      <td>2.000000</td>\n",
       "    </tr>\n",
       "    <tr>\n",
       "      <th>75%</th>\n",
       "      <td>48.000000</td>\n",
       "      <td>21.000000</td>\n",
       "      <td>319.000000</td>\n",
       "      <td>3.000000</td>\n",
       "    </tr>\n",
       "    <tr>\n",
       "      <th>max</th>\n",
       "      <td>95.000000</td>\n",
       "      <td>31.000000</td>\n",
       "      <td>4918.000000</td>\n",
       "      <td>63.000000</td>\n",
       "    </tr>\n",
       "  </tbody>\n",
       "</table>\n",
       "</div>"
      ],
      "text/plain": [
       "                age      call_day  call_duration  call_frequency\n",
       "count  45211.000000  45211.000000   45211.000000    45211.000000\n",
       "mean      40.936210     15.806419     258.163080        2.763841\n",
       "std       10.618762      8.322476     257.527812        3.098021\n",
       "min       18.000000      1.000000       0.000000        1.000000\n",
       "25%       33.000000      8.000000     103.000000        1.000000\n",
       "50%       39.000000     16.000000     180.000000        2.000000\n",
       "75%       48.000000     21.000000     319.000000        3.000000\n",
       "max       95.000000     31.000000    4918.000000       63.000000"
      ]
     },
     "execution_count": 7,
     "metadata": {},
     "output_type": "execute_result"
    }
   ],
   "source": [
    "df.describe()"
   ]
  },
  {
   "cell_type": "markdown",
   "id": "da3ca283-4d9e-458d-9500-2dc7b0fc966e",
   "metadata": {},
   "source": [
    "# <font size = \"4\"> from \"describe\" you get a summary of the descriptive statistics of the numerical columns in your DataFrame.It includes statistics such as count, mean, standard deviation, minimum, maximum, and various quantiles.. By using this method, you can get a sense of the distribution of your data and identify potential issues such as outliers or missing values.\n",
    "* <font size = \"4\"> Here, in age coloumn the mean is 40 and 50th percentile is 39 so there is a small amount of outlires present.\n",
    "* <font size = \"4\">In call_day the difference between mean and 50th percentile is small so there is no outlires.\n",
    "* <font size = \"4\"> In call_duration the mean is 258 and 50th percentile is 180.In this coloumn there is so many outlires.\n",
    "* <font size = \"4\"> In call_frequency the mean is 2.7 and 50th percentile is 2,so we conclude that there is some outlires in this coloumn."
   ]
  },
  {
   "cell_type": "code",
   "execution_count": 8,
   "id": "8eef2f32-a1d3-42cb-a8e3-e5f15896a524",
   "metadata": {},
   "outputs": [
    {
     "data": {
      "text/plain": [
       "conversion_status\n",
       "not_converted    39922\n",
       "converted         5289\n",
       "Name: count, dtype: int64"
      ]
     },
     "execution_count": 8,
     "metadata": {},
     "output_type": "execute_result"
    }
   ],
   "source": [
    "df[\"conversion_status\"].value_counts()"
   ]
  },
  {
   "cell_type": "markdown",
   "id": "730e23bd-e725-4a28-a676-d8e586f340f3",
   "metadata": {},
   "source": [
    "#<font size = \"4\"> df.value_counts() helps you identify if there is an imbalance in the target variable,in \"conversion_status\" the data is imbalance/bias.so we will resample the data."
   ]
  },
  {
   "cell_type": "code",
   "execution_count": 9,
   "id": "c418b949-2f0f-4b51-b34b-a082c65ec424",
   "metadata": {},
   "outputs": [],
   "source": [
    "from sklearn.utils import resample"
   ]
  },
  {
   "cell_type": "code",
   "execution_count": 10,
   "id": "0ce93eaf-4893-4bf4-b07e-649b893bf398",
   "metadata": {},
   "outputs": [],
   "source": [
    "Not_converted= df[df[\"conversion_status\"]==\"not_converted\"]\n",
    "Converted = df[df[\"conversion_status\"]==\"converted\"]"
   ]
  },
  {
   "cell_type": "code",
   "execution_count": 11,
   "id": "8a02e960-3658-4ec9-a641-b70adba41d44",
   "metadata": {},
   "outputs": [],
   "source": [
    "### Downsampling the data :\n",
    "downsampled_data = resample(Not_converted ,replace=False,n_samples=len(Converted))"
   ]
  },
  {
   "cell_type": "markdown",
   "id": "e44cf204-b786-4ebc-891d-8f896f05d525",
   "metadata": {},
   "source": [
    "# <font size = \"4\"> Here, We make the data dounsampling,i.e. we reduces the \"not_converted\" dataset in the len(converted) dataset. "
   ]
  },
  {
   "cell_type": "code",
   "execution_count": 12,
   "id": "f09a6461-a2bc-4c9b-be0b-00e26569b0d0",
   "metadata": {},
   "outputs": [
    {
     "data": {
      "text/html": [
       "<div>\n",
       "<style scoped>\n",
       "    .dataframe tbody tr th:only-of-type {\n",
       "        vertical-align: middle;\n",
       "    }\n",
       "\n",
       "    .dataframe tbody tr th {\n",
       "        vertical-align: top;\n",
       "    }\n",
       "\n",
       "    .dataframe thead th {\n",
       "        text-align: right;\n",
       "    }\n",
       "</style>\n",
       "<table border=\"1\" class=\"dataframe\">\n",
       "  <thead>\n",
       "    <tr style=\"text-align: right;\">\n",
       "      <th></th>\n",
       "      <th>occupation</th>\n",
       "      <th>age</th>\n",
       "      <th>education_level</th>\n",
       "      <th>marital_status</th>\n",
       "      <th>communication_channel</th>\n",
       "      <th>call_month</th>\n",
       "      <th>call_day</th>\n",
       "      <th>call_duration</th>\n",
       "      <th>call_frequency</th>\n",
       "      <th>previous_campaign_outcome</th>\n",
       "      <th>conversion_status</th>\n",
       "    </tr>\n",
       "  </thead>\n",
       "  <tbody>\n",
       "    <tr>\n",
       "      <th>44942</th>\n",
       "      <td>business_owner</td>\n",
       "      <td>31</td>\n",
       "      <td>college</td>\n",
       "      <td>single</td>\n",
       "      <td>mobile</td>\n",
       "      <td>January</td>\n",
       "      <td>29</td>\n",
       "      <td>445</td>\n",
       "      <td>2</td>\n",
       "      <td>unidentified</td>\n",
       "      <td>not_converted</td>\n",
       "    </tr>\n",
       "    <tr>\n",
       "      <th>24953</th>\n",
       "      <td>executive</td>\n",
       "      <td>48</td>\n",
       "      <td>college</td>\n",
       "      <td>divorced</td>\n",
       "      <td>mobile</td>\n",
       "      <td>November</td>\n",
       "      <td>21</td>\n",
       "      <td>275</td>\n",
       "      <td>2</td>\n",
       "      <td>unidentified</td>\n",
       "      <td>not_converted</td>\n",
       "    </tr>\n",
       "    <tr>\n",
       "      <th>27329</th>\n",
       "      <td>technical_specialist</td>\n",
       "      <td>32</td>\n",
       "      <td>high_school</td>\n",
       "      <td>married</td>\n",
       "      <td>unidentified</td>\n",
       "      <td>May</td>\n",
       "      <td>21</td>\n",
       "      <td>102</td>\n",
       "      <td>3</td>\n",
       "      <td>unidentified</td>\n",
       "      <td>not_converted</td>\n",
       "    </tr>\n",
       "    <tr>\n",
       "      <th>10366</th>\n",
       "      <td>technical_specialist</td>\n",
       "      <td>37</td>\n",
       "      <td>elementary_school</td>\n",
       "      <td>married</td>\n",
       "      <td>unidentified</td>\n",
       "      <td>May</td>\n",
       "      <td>6</td>\n",
       "      <td>76</td>\n",
       "      <td>4</td>\n",
       "      <td>unidentified</td>\n",
       "      <td>not_converted</td>\n",
       "    </tr>\n",
       "    <tr>\n",
       "      <th>39832</th>\n",
       "      <td>administrative_staff</td>\n",
       "      <td>56</td>\n",
       "      <td>high_school</td>\n",
       "      <td>divorced</td>\n",
       "      <td>mobile</td>\n",
       "      <td>August</td>\n",
       "      <td>18</td>\n",
       "      <td>150</td>\n",
       "      <td>2</td>\n",
       "      <td>unidentified</td>\n",
       "      <td>not_converted</td>\n",
       "    </tr>\n",
       "    <tr>\n",
       "      <th>...</th>\n",
       "      <td>...</td>\n",
       "      <td>...</td>\n",
       "      <td>...</td>\n",
       "      <td>...</td>\n",
       "      <td>...</td>\n",
       "      <td>...</td>\n",
       "      <td>...</td>\n",
       "      <td>...</td>\n",
       "      <td>...</td>\n",
       "      <td>...</td>\n",
       "      <td>...</td>\n",
       "    </tr>\n",
       "    <tr>\n",
       "      <th>10608</th>\n",
       "      <td>technical_specialist</td>\n",
       "      <td>32</td>\n",
       "      <td>high_school</td>\n",
       "      <td>single</td>\n",
       "      <td>mobile</td>\n",
       "      <td>August</td>\n",
       "      <td>29</td>\n",
       "      <td>451</td>\n",
       "      <td>4</td>\n",
       "      <td>unidentified</td>\n",
       "      <td>not_converted</td>\n",
       "    </tr>\n",
       "    <tr>\n",
       "      <th>42257</th>\n",
       "      <td>technical_specialist</td>\n",
       "      <td>44</td>\n",
       "      <td>elementary_school</td>\n",
       "      <td>married</td>\n",
       "      <td>mobile</td>\n",
       "      <td>November</td>\n",
       "      <td>19</td>\n",
       "      <td>250</td>\n",
       "      <td>1</td>\n",
       "      <td>unidentified</td>\n",
       "      <td>not_converted</td>\n",
       "    </tr>\n",
       "    <tr>\n",
       "      <th>25177</th>\n",
       "      <td>administrative_staff</td>\n",
       "      <td>33</td>\n",
       "      <td>high_school</td>\n",
       "      <td>divorced</td>\n",
       "      <td>mobile</td>\n",
       "      <td>January</td>\n",
       "      <td>28</td>\n",
       "      <td>119</td>\n",
       "      <td>2</td>\n",
       "      <td>unidentified</td>\n",
       "      <td>not_converted</td>\n",
       "    </tr>\n",
       "    <tr>\n",
       "      <th>35895</th>\n",
       "      <td>manual_worker</td>\n",
       "      <td>36</td>\n",
       "      <td>elementary_school</td>\n",
       "      <td>married</td>\n",
       "      <td>mobile</td>\n",
       "      <td>November</td>\n",
       "      <td>19</td>\n",
       "      <td>138</td>\n",
       "      <td>1</td>\n",
       "      <td>unidentified</td>\n",
       "      <td>not_converted</td>\n",
       "    </tr>\n",
       "    <tr>\n",
       "      <th>15253</th>\n",
       "      <td>manual_worker</td>\n",
       "      <td>36</td>\n",
       "      <td>high_school</td>\n",
       "      <td>married</td>\n",
       "      <td>unidentified</td>\n",
       "      <td>June</td>\n",
       "      <td>3</td>\n",
       "      <td>19</td>\n",
       "      <td>20</td>\n",
       "      <td>unidentified</td>\n",
       "      <td>not_converted</td>\n",
       "    </tr>\n",
       "  </tbody>\n",
       "</table>\n",
       "<p>5289 rows × 11 columns</p>\n",
       "</div>"
      ],
      "text/plain": [
       "                 occupation  age    education_level marital_status  \\\n",
       "44942        business_owner   31            college         single   \n",
       "24953             executive   48            college       divorced   \n",
       "27329  technical_specialist   32        high_school        married   \n",
       "10366  technical_specialist   37  elementary_school        married   \n",
       "39832  administrative_staff   56        high_school       divorced   \n",
       "...                     ...  ...                ...            ...   \n",
       "10608  technical_specialist   32        high_school         single   \n",
       "42257  technical_specialist   44  elementary_school        married   \n",
       "25177  administrative_staff   33        high_school       divorced   \n",
       "35895         manual_worker   36  elementary_school        married   \n",
       "15253         manual_worker   36        high_school        married   \n",
       "\n",
       "      communication_channel call_month  call_day  call_duration  \\\n",
       "44942                mobile    January        29            445   \n",
       "24953                mobile   November        21            275   \n",
       "27329          unidentified        May        21            102   \n",
       "10366          unidentified        May         6             76   \n",
       "39832                mobile     August        18            150   \n",
       "...                     ...        ...       ...            ...   \n",
       "10608                mobile     August        29            451   \n",
       "42257                mobile   November        19            250   \n",
       "25177                mobile    January        28            119   \n",
       "35895                mobile   November        19            138   \n",
       "15253          unidentified       June         3             19   \n",
       "\n",
       "       call_frequency previous_campaign_outcome conversion_status  \n",
       "44942               2              unidentified     not_converted  \n",
       "24953               2              unidentified     not_converted  \n",
       "27329               3              unidentified     not_converted  \n",
       "10366               4              unidentified     not_converted  \n",
       "39832               2              unidentified     not_converted  \n",
       "...               ...                       ...               ...  \n",
       "10608               4              unidentified     not_converted  \n",
       "42257               1              unidentified     not_converted  \n",
       "25177               2              unidentified     not_converted  \n",
       "35895               1              unidentified     not_converted  \n",
       "15253              20              unidentified     not_converted  \n",
       "\n",
       "[5289 rows x 11 columns]"
      ]
     },
     "execution_count": 12,
     "metadata": {},
     "output_type": "execute_result"
    }
   ],
   "source": [
    "downsampled_data "
   ]
  },
  {
   "cell_type": "markdown",
   "id": "c96f2b7d-fbbe-4542-a33b-6beb04a74c1c",
   "metadata": {},
   "source": [
    "# <font size = \"4\"> Now,our downsampled data will be reduced till 5289 rows."
   ]
  },
  {
   "cell_type": "code",
   "execution_count": 13,
   "id": "1e582122-5a08-4f05-a780-b3c59def8ea7",
   "metadata": {},
   "outputs": [],
   "source": [
    "## Concatination of downsampled data and converted daataset\n",
    "new_df=pd.concat([downsampled_data,Converted],axis=0)"
   ]
  },
  {
   "cell_type": "code",
   "execution_count": 14,
   "id": "10520f7c-682a-4773-8f73-d865769e2e7e",
   "metadata": {},
   "outputs": [
    {
     "name": "stdout",
     "output_type": "stream",
     "text": [
      "<class 'pandas.core.frame.DataFrame'>\n",
      "Index: 10578 entries, 44942 to 45205\n",
      "Data columns (total 11 columns):\n",
      " #   Column                     Non-Null Count  Dtype \n",
      "---  ------                     --------------  ----- \n",
      " 0   occupation                 10578 non-null  object\n",
      " 1   age                        10578 non-null  int64 \n",
      " 2   education_level            10578 non-null  object\n",
      " 3   marital_status             10578 non-null  object\n",
      " 4   communication_channel      10578 non-null  object\n",
      " 5   call_month                 10578 non-null  object\n",
      " 6   call_day                   10578 non-null  int64 \n",
      " 7   call_duration              10578 non-null  int64 \n",
      " 8   call_frequency             10578 non-null  int64 \n",
      " 9   previous_campaign_outcome  10578 non-null  object\n",
      " 10  conversion_status          10578 non-null  object\n",
      "dtypes: int64(4), object(7)\n",
      "memory usage: 991.7+ KB\n"
     ]
    }
   ],
   "source": [
    "new_df.info()"
   ]
  },
  {
   "cell_type": "markdown",
   "id": "f5ed4160-d623-4313-88fc-e51c4745e25b",
   "metadata": {},
   "source": [
    "# <font size = \"4\"> Now,our data size is 10578 rows(5289 of converted & 5289 of not_converted),dataset is converted into a balanced dataset."
   ]
  },
  {
   "cell_type": "code",
   "execution_count": 15,
   "id": "57381a82-5fab-41ae-ad3b-7e1fc3ac81d0",
   "metadata": {},
   "outputs": [],
   "source": [
    "new_df.reset_index(drop=True,inplace=True)"
   ]
  },
  {
   "cell_type": "markdown",
   "id": "edcfaa25-76e9-4525-94b4-53c887978aa5",
   "metadata": {},
   "source": [
    "# <font size = \"4\"> After performing operations such as filtering, grouping, or aggregating data, the index of a DataFrame may become disorganized or altered. reset_index() allows you to reset the index to its default integer-based index"
   ]
  },
  {
   "cell_type": "code",
   "execution_count": 16,
   "id": "7a42ef99-42fa-4462-ac50-6071399d4021",
   "metadata": {},
   "outputs": [
    {
     "name": "stdout",
     "output_type": "stream",
     "text": [
      "<class 'pandas.core.frame.DataFrame'>\n",
      "RangeIndex: 10578 entries, 0 to 10577\n",
      "Data columns (total 11 columns):\n",
      " #   Column                     Non-Null Count  Dtype \n",
      "---  ------                     --------------  ----- \n",
      " 0   occupation                 10578 non-null  object\n",
      " 1   age                        10578 non-null  int64 \n",
      " 2   education_level            10578 non-null  object\n",
      " 3   marital_status             10578 non-null  object\n",
      " 4   communication_channel      10578 non-null  object\n",
      " 5   call_month                 10578 non-null  object\n",
      " 6   call_day                   10578 non-null  int64 \n",
      " 7   call_duration              10578 non-null  int64 \n",
      " 8   call_frequency             10578 non-null  int64 \n",
      " 9   previous_campaign_outcome  10578 non-null  object\n",
      " 10  conversion_status          10578 non-null  object\n",
      "dtypes: int64(4), object(7)\n",
      "memory usage: 909.2+ KB\n"
     ]
    }
   ],
   "source": [
    "new_df.info()"
   ]
  },
  {
   "cell_type": "markdown",
   "id": "ce982137-010a-4327-a482-4b814f3cccac",
   "metadata": {},
   "source": [
    "# <font size = \"4\"> Now our index become organized form."
   ]
  },
  {
   "cell_type": "markdown",
   "id": "316e743c-c41d-401b-b193-025354f90865",
   "metadata": {},
   "source": [
    "# Age"
   ]
  },
  {
   "cell_type": "code",
   "execution_count": 17,
   "id": "fe507900-167f-4616-b927-7f509dbbc62d",
   "metadata": {},
   "outputs": [
    {
     "data": {
      "text/plain": [
       "<Axes: title={'center': 'Age'}, xlabel='X values', ylabel='Y values'>"
      ]
     },
     "execution_count": 17,
     "metadata": {},
     "output_type": "execute_result"
    },
    {
     "data": {
      "image/png": "[encoded data removed]",
      "text/plain": [
       "<Figure size 600x400 with 1 Axes>"
      ]
     },
     "metadata": {},
     "output_type": "display_data"
    }
   ],
   "source": [
    "plt.figure(figsize=(6,4))\n",
    "plt.title(\"Age\")\n",
    "plt.xlabel(\"X values\")\n",
    "plt.ylabel(\"Y values\")\n",
    "sns.histplot(new_df[\"age\"],kde=True)"
   ]
  },
  {
   "cell_type": "markdown",
   "id": "1747cd1c-c793-40ae-9884-1198f422886a",
   "metadata": {},
   "source": [
    "# <font size = \"4\"> Histograms display the range of values present in the dataset.The central tendency of the data can be observed from the peak of the histogram.our age data is bell shaped, remaing(above 70) are the outlires."
   ]
  },
  {
   "cell_type": "code",
   "execution_count": 18,
   "id": "c0743d6f-fed2-44c4-9903-5df7ac0ee2c5",
   "metadata": {},
   "outputs": [
    {
     "data": {
      "text/plain": [
       "<Axes: title={'center': 'Age'}, xlabel='X values', ylabel='Y values'>"
      ]
     },
     "execution_count": 18,
     "metadata": {},
     "output_type": "execute_result"
    },
    {
     "data": {
      "image/png": "[encoded data removed]",
      "text/plain": [
       "<Figure size 640x480 with 1 Axes>"
      ]
     },
     "metadata": {},
     "output_type": "display_data"
    }
   ],
   "source": [
    "plt.title(\"Age\",color=\"r\")\n",
    "plt.xlabel(\"X values\")\n",
    "plt.ylabel(\"Y values\")\n",
    "new_df[\"age\"].plot.box()"
   ]
  },
  {
   "cell_type": "markdown",
   "id": "91e146d7-fdb0-495b-9296-edea680b6e2c",
   "metadata": {},
   "source": [
    "# <font size = \"4\"> From above graph,There are some oulires above 75(approximetly) we can remove it."
   ]
  },
  {
   "cell_type": "code",
   "execution_count": 19,
   "id": "63dd9303-b30e-4891-9638-1dfb17d26313",
   "metadata": {},
   "outputs": [
    {
     "data": {
      "text/plain": [
       "73.0"
      ]
     },
     "execution_count": 19,
     "metadata": {},
     "output_type": "execute_result"
    }
   ],
   "source": [
    "new_df[\"age\"].quantile(0.984)"
   ]
  },
  {
   "cell_type": "code",
   "execution_count": 20,
   "id": "3f97c189-e0e9-49c4-b677-b30423bf938f",
   "metadata": {},
   "outputs": [],
   "source": [
    "new_df=new_df[new_df[\"age\"]<new_df[\"age\"].quantile(0.984)]"
   ]
  },
  {
   "cell_type": "code",
   "execution_count": 21,
   "id": "e641a3f1-0de1-47f5-b8a9-ae8767f5e691",
   "metadata": {},
   "outputs": [
    {
     "data": {
      "image/png": "[encoded data removed]",
      "text/plain": [
       "<Figure size 640x480 with 1 Axes>"
      ]
     },
     "metadata": {},
     "output_type": "display_data"
    }
   ],
   "source": [
    "plt.title(\"Age\",color=\"r\")\n",
    "new_df[\"age\"].plot.box()\n",
    "plt.show()"
   ]
  },
  {
   "cell_type": "markdown",
   "id": "c0c5b979-230d-4bee-a8a9-65a519566d31",
   "metadata": {
    "jp-MarkdownHeadingCollapsed": true
   },
   "source": [
    "# <font size = \"4\"> We find the quantile , after that we removed the data above quantile to get outlierless data and save it , then our outlires in age coloumn will be removed."
   ]
  },
  {
   "cell_type": "markdown",
   "id": "310cdc3b-0a90-46c9-ad67-a083a1bdfabe",
   "metadata": {},
   "source": [
    "# Call Day"
   ]
  },
  {
   "cell_type": "code",
   "execution_count": 22,
   "id": "5a24a65c-138b-422f-9784-f849a6e6ceb2",
   "metadata": {},
   "outputs": [
    {
     "data": {
      "image/png": "[encoded data removed]",
      "text/plain": [
       "<Figure size 640x480 with 1 Axes>"
      ]
     },
     "metadata": {},
     "output_type": "display_data"
    }
   ],
   "source": [
    "plt.title(\"Call_Day\",color=\"r\")\n",
    "new_df[\"call_day\"].plot.box()\n",
    "plt.show()"
   ]
  },
  {
   "cell_type": "markdown",
   "id": "f5af6453-5b18-4c72-8326-1f914bb5d7d3",
   "metadata": {},
   "source": [
    "# <font size = \"4\"> In call_day there is no outlires."
   ]
  },
  {
   "cell_type": "code",
   "execution_count": 23,
   "id": "b604bea2-7a00-4b10-94d5-7fbaa099e867",
   "metadata": {},
   "outputs": [
    {
     "data": {
      "image/png": "[encoded data removed]",
      "text/plain": [
       "<Figure size 640x480 with 1 Axes>"
      ]
     },
     "metadata": {},
     "output_type": "display_data"
    }
   ],
   "source": [
    "plt.title(\"Call_Day VS Conversion_status\",color=\"r\")\n",
    "sns.countplot(new_df,x=\"call_day\",hue=\"conversion_status\")\n",
    "plt.show()"
   ]
  },
  {
   "cell_type": "markdown",
   "id": "bb19b1ca-3b11-422c-9dc5-72eb3b709ad1",
   "metadata": {},
   "source": [
    "# <font size = \"4\"> In above graph we see the conversion_status according to call_day."
   ]
  },
  {
   "cell_type": "markdown",
   "id": "3f6f3cb8-1071-4dee-8bf9-bf095f29087b",
   "metadata": {},
   "source": [
    "# Call Duration"
   ]
  },
  {
   "cell_type": "code",
   "execution_count": 24,
   "id": "a88c1220-ab80-4e14-853b-c5b462a91d0d",
   "metadata": {},
   "outputs": [
    {
     "data": {
      "image/png": "[encoded data removed]",
      "text/plain": [
       "<Figure size 640x480 with 1 Axes>"
      ]
     },
     "metadata": {},
     "output_type": "display_data"
    }
   ],
   "source": [
    "plt.title(\"call_duration\",color=\"r\")\n",
    "sns.histplot(new_df[\"call_duration\"],kde=True)\n",
    "plt.show()"
   ]
  },
  {
   "cell_type": "markdown",
   "id": "ee2a7f94-f017-44ab-b9d3-d04c5a20a195",
   "metadata": {},
   "source": [
    "# <font size = \"4\"> Histogram provide a visual representation of the frequency of call_duration.Here,the histgram is not normally distributed and aprox above 1500 value is outlires."
   ]
  },
  {
   "cell_type": "code",
   "execution_count": 25,
   "id": "a9aa25df-486a-4e8d-a842-e5514b1f3371",
   "metadata": {},
   "outputs": [
    {
     "data": {
      "image/png": "[encoded data removed]",
      "text/plain": [
       "<Figure size 640x480 with 1 Axes>"
      ]
     },
     "metadata": {},
     "output_type": "display_data"
    }
   ],
   "source": [
    "plt.title(\"Call_duration\",color=\"r\")\n",
    "new_df[\"call_duration\"].plot.box()\n",
    "plt.show()"
   ]
  },
  {
   "cell_type": "markdown",
   "id": "8b4a3cec-cf56-4e76-b5fb-0107c481a4ae",
   "metadata": {},
   "source": [
    "# <font size = \"4\"> In Above graph we have to see there are so many outlires,we have to remove it."
   ]
  },
  {
   "cell_type": "code",
   "execution_count": 26,
   "id": "e2a055b4-6c84-4e64-ba4b-c397be58e8a6",
   "metadata": {},
   "outputs": [
    {
     "data": {
      "text/plain": [
       "779.2739999999994"
      ]
     },
     "execution_count": 26,
     "metadata": {},
     "output_type": "execute_result"
    }
   ],
   "source": [
    "new_df[\"call_duration\"].quantile(0.878)"
   ]
  },
  {
   "cell_type": "markdown",
   "id": "6d9a34b3-7170-4b36-a3da-01a88238bc73",
   "metadata": {},
   "source": [
    "# <font size = \"4\"> The quantile of call_duration at 87.8 % is 776. and after that there is a outlier,we have to remove it"
   ]
  },
  {
   "cell_type": "code",
   "execution_count": 27,
   "id": "12cf13de-592d-4c67-a3ca-5284683fb7b0",
   "metadata": {},
   "outputs": [],
   "source": [
    "# Removing Outliers and save it in new_df.\n",
    "new_df=new_df[new_df[\"call_duration\"]<new_df[\"call_duration\"].quantile(0.878)]"
   ]
  },
  {
   "cell_type": "code",
   "execution_count": 28,
   "id": "364b578c-cea5-45ef-a545-96f6b66e275d",
   "metadata": {},
   "outputs": [
    {
     "data": {
      "image/png": "[encoded data removed]",
      "text/plain": [
       "<Figure size 640x480 with 1 Axes>"
      ]
     },
     "metadata": {},
     "output_type": "display_data"
    }
   ],
   "source": [
    "# Checking Outliers in new_df\n",
    "plt.title(\"Call_duration\",color=\"r\")\n",
    "new_df[\"call_duration\"].plot.box()\n",
    "plt.show()"
   ]
  },
  {
   "cell_type": "code",
   "execution_count": 29,
   "id": "d8b88808-b578-4313-b4b6-393f5f502e57",
   "metadata": {},
   "outputs": [
    {
     "data": {
      "text/plain": [
       "array([[ 1.        , -0.00954134],\n",
       "       [-0.00954134,  1.        ]])"
      ]
     },
     "execution_count": 29,
     "metadata": {},
     "output_type": "execute_result"
    }
   ],
   "source": [
    "np.corrcoef(new_df[\"call_day\"],new_df[\"call_duration\"])"
   ]
  },
  {
   "cell_type": "markdown",
   "id": "64e15a13-3610-417c-967c-99a4d0767314",
   "metadata": {},
   "source": [
    "# <font size = \"4\"> A negative correlation coefficient indicates an inverse relationship between the call_day and call_duration"
   ]
  },
  {
   "cell_type": "markdown",
   "id": "ab0ec8e4-74f3-44d9-a8d9-6dba7db8b3be",
   "metadata": {},
   "source": [
    "### Call Frequency"
   ]
  },
  {
   "cell_type": "code",
   "execution_count": 30,
   "id": "4ab56148-413a-407c-a633-4c64627eefd2",
   "metadata": {},
   "outputs": [
    {
     "data": {
      "image/png": "[encoded data removed]",
      "text/plain": [
       "<Figure size 640x480 with 1 Axes>"
      ]
     },
     "metadata": {},
     "output_type": "display_data"
    }
   ],
   "source": [
    "# Checking Outlires with the help of box_plot\n",
    "plt.title(\"Call_Frequency\",color=\"r\")\n",
    "new_df[\"call_frequency\"].plot.box()\n",
    "plt.show()"
   ]
  },
  {
   "cell_type": "code",
   "execution_count": 31,
   "id": "3afcf42f-fab7-40c6-b048-53b5c516be98",
   "metadata": {},
   "outputs": [
    {
     "data": {
      "text/plain": [
       "4.0"
      ]
     },
     "execution_count": 31,
     "metadata": {},
     "output_type": "execute_result"
    }
   ],
   "source": [
    "new_df[\"call_frequency\"].quantile(0.89)"
   ]
  },
  {
   "cell_type": "markdown",
   "id": "b67e31fc-8361-42bf-901d-7a687aa36f3c",
   "metadata": {},
   "source": [
    "# <font size = \"4\"> The quantile of call_frequency at 89.4 % is 5, and after that there is a outlier,we have to remove it"
   ]
  },
  {
   "cell_type": "code",
   "execution_count": 32,
   "id": "deefabcf-adf5-4f1c-99a9-64df36127029",
   "metadata": {},
   "outputs": [],
   "source": [
    "# Removing Outliers and save it in new_df.\n",
    "new_df=new_df[new_df[\"call_frequency\"]<new_df[\"call_frequency\"].quantile(0.89)]"
   ]
  },
  {
   "cell_type": "code",
   "execution_count": 33,
   "id": "67747551-e2da-4b68-8544-1f98b369513c",
   "metadata": {},
   "outputs": [
    {
     "data": {
      "image/png": "[encoded data removed]",
      "text/plain": [
       "<Figure size 640x480 with 1 Axes>"
      ]
     },
     "metadata": {},
     "output_type": "display_data"
    }
   ],
   "source": [
    "plt.title(\"Call_Frequency\",color=\"r\")\n",
    "new_df[\"call_frequency\"].plot.box()\n",
    "plt.show()"
   ]
  },
  {
   "cell_type": "code",
   "execution_count": 34,
   "id": "7835b516-05e4-4ab5-8754-e5ca4f56a5cb",
   "metadata": {},
   "outputs": [
    {
     "data": {
      "image/png": "[encoded data removed]",
      "text/plain": [
       "<Figure size 640x480 with 1 Axes>"
      ]
     },
     "metadata": {},
     "output_type": "display_data"
    }
   ],
   "source": [
    "plt.title(\"Call_Frequency VS conversion_status\",color=\"r\")\n",
    "sns.countplot(new_df,x=\"call_frequency\",hue=\"conversion_status\")\n",
    "plt.show()"
   ]
  },
  {
   "cell_type": "markdown",
   "id": "2c1512c9-5fd6-42a8-a7f5-8656afa6c103",
   "metadata": {},
   "source": [
    "# <font size = \"4\"> From above Graph , the more converted client ,which are connected only once.and the client who connected twice or thrice ,the value of  not_converted client is more.This is not possible thing.if we drop this coloumn,there is no impact on target coloumn."
   ]
  },
  {
   "cell_type": "code",
   "execution_count": 35,
   "id": "dac8625b-5e43-49b7-b7d2-42e12936a073",
   "metadata": {},
   "outputs": [
    {
     "data": {
      "text/plain": [
       "array([[1.        , 0.04305211],\n",
       "       [0.04305211, 1.        ]])"
      ]
     },
     "execution_count": 35,
     "metadata": {},
     "output_type": "execute_result"
    }
   ],
   "source": [
    "np.corrcoef(new_df[\"call_frequency\"],new_df[\"call_day\"])"
   ]
  },
  {
   "cell_type": "markdown",
   "id": "1b4cfd25-1ebf-4360-a802-c222d9ad6d2a",
   "metadata": {},
   "source": [
    "# <font size = \"4\">A correlation coefficient of 0.04 indicates a very weak positive correlation between  call_frequency and call_day."
   ]
  },
  {
   "cell_type": "code",
   "execution_count": 36,
   "id": "0ebbf6ac-4221-41ec-a93a-f790d429d117",
   "metadata": {},
   "outputs": [
    {
     "data": {
      "text/plain": [
       "array([[ 1.00000000e+00, -3.61433171e-04],\n",
       "       [-3.61433171e-04,  1.00000000e+00]])"
      ]
     },
     "execution_count": 36,
     "metadata": {},
     "output_type": "execute_result"
    }
   ],
   "source": [
    "np.corrcoef(new_df[\"call_frequency\"],new_df[\"call_duration\"])"
   ]
  },
  {
   "cell_type": "markdown",
   "id": "d5a4e3e9-a683-46aa-b19c-8439b1c1b8a1",
   "metadata": {},
   "source": [
    "# <font size = \"4\"> The correlation value is negative, it indicates a negative correlation between call_frequency and call_duration."
   ]
  },
  {
   "cell_type": "markdown",
   "id": "184a1a3e-71fa-48c0-89af-3fca232ab2c3",
   "metadata": {},
   "source": [
    "# occupation"
   ]
  },
  {
   "cell_type": "code",
   "execution_count": 37,
   "id": "e5fec823-073e-45c8-8d12-8c8505582aae",
   "metadata": {},
   "outputs": [
    {
     "data": {
      "text/plain": [
       "occupation\n",
       "executive               1705\n",
       "manual_worker           1308\n",
       "technical_specialist    1234\n",
       "administrative_staff     933\n",
       "service_worker           643\n",
       "retired_worker           440\n",
       "student                  287\n",
       "jobless                  277\n",
       "independent_worker       265\n",
       "business_owner           204\n",
       "domestic_worker          179\n",
       "unidentified              44\n",
       "Name: count, dtype: int64"
      ]
     },
     "execution_count": 37,
     "metadata": {},
     "output_type": "execute_result"
    }
   ],
   "source": [
    "new_df[\"occupation\"].value_counts()"
   ]
  },
  {
   "cell_type": "markdown",
   "id": "081003f8-e2d3-4c63-97ad-ad3c67ac5614",
   "metadata": {},
   "source": [
    "# <font size = \"4\"> from value_counts , you can get a sense of how frequently occupation coloumn appears in the dataset."
   ]
  },
  {
   "cell_type": "code",
   "execution_count": 38,
   "id": "5108affb-bf25-47e4-8713-bb5c08512325",
   "metadata": {},
   "outputs": [
    {
     "data": {
      "image/png": "[encoded data removed]",
      "text/plain": [
       "<Figure size 640x480 with 1 Axes>"
      ]
     },
     "metadata": {},
     "output_type": "display_data"
    }
   ],
   "source": [
    "plt.title(\"Occupation VS conversion_status\",color=\"r\")\n",
    "sns.countplot(new_df,x=\"occupation\",hue=\"conversion_status\")\n",
    "plt.xticks(rotation=90)\n",
    "plt.show()"
   ]
  },
  {
   "cell_type": "markdown",
   "id": "64e2f3ba-ba5e-4cc9-8860-e1d14b9fcd36",
   "metadata": {},
   "source": [
    "# <font size = \"4\"> In above graph we observe that conversion_status according to occupation.The number of converted client is more in student,jobless,executive and retired_worker.The number of not_converted client is more in independent_worker,business_owner,administrative_staff,domestic_worker,manual_worker,service_worker and technical_specialist."
   ]
  },
  {
   "cell_type": "markdown",
   "id": "93252d9c-1554-4913-a4ca-ca160fd18d31",
   "metadata": {},
   "source": [
    "# Educational Level"
   ]
  },
  {
   "cell_type": "code",
   "execution_count": 39,
   "id": "8446de36-4a5b-4396-a753-faa05ee8608b",
   "metadata": {},
   "outputs": [
    {
     "data": {
      "text/plain": [
       "education_level\n",
       "high_school          3784\n",
       "college              2490\n",
       "elementary_school     922\n",
       "unidentified          323\n",
       "Name: count, dtype: int64"
      ]
     },
     "execution_count": 39,
     "metadata": {},
     "output_type": "execute_result"
    }
   ],
   "source": [
    "new_df[\"education_level\"].value_counts()"
   ]
  },
  {
   "cell_type": "markdown",
   "id": "2045393d-6308-45b1-8bea-9cd98c0f3588",
   "metadata": {},
   "source": [
    "# <font size = \"4\"> From value_counts of education_level we can find the categories in that coloumn."
   ]
  },
  {
   "cell_type": "code",
   "execution_count": 40,
   "id": "18de18b8-030d-4d06-ac5c-af3656413ec7",
   "metadata": {},
   "outputs": [
    {
     "data": {
      "image/png": "[encoded data removed]",
      "text/plain": [
       "<Figure size 640x480 with 1 Axes>"
      ]
     },
     "metadata": {},
     "output_type": "display_data"
    }
   ],
   "source": [
    "plt.title(\"educational_level VS conversion_status\",color=\"r\")\n",
    "sns.countplot(new_df,x=\"education_level\",hue=\"conversion_status\")\n",
    "plt.show()"
   ]
  },
  {
   "cell_type": "markdown",
   "id": "f3814e64-77d8-49dc-9652-0240254789a3",
   "metadata": {},
   "source": [
    "# <font size = \"4\"> From graph,the number of converted client is more in college and the number of not_converted client is more in high_school and elementory_school."
   ]
  },
  {
   "cell_type": "markdown",
   "id": "ab3601b2-cf10-4c17-a635-cfa7e0bcbd6e",
   "metadata": {},
   "source": [
    "# Marital Status\n"
   ]
  },
  {
   "cell_type": "code",
   "execution_count": 41,
   "id": "e2f91bae-6998-47b3-ab73-9d81aae1ceff",
   "metadata": {},
   "outputs": [
    {
     "data": {
      "text/plain": [
       "marital_status\n",
       "married     4196\n",
       "single      2511\n",
       "divorced     812\n",
       "Name: count, dtype: int64"
      ]
     },
     "execution_count": 41,
     "metadata": {},
     "output_type": "execute_result"
    }
   ],
   "source": [
    "new_df[\"marital_status\"].value_counts()"
   ]
  },
  {
   "cell_type": "markdown",
   "id": "48e5b28b-0945-46e3-990d-abacdcb21516",
   "metadata": {},
   "source": [
    "# <font size = \"4\"> From value_counts of marital status we find 4579 married,2677 single and 884 divorced."
   ]
  },
  {
   "cell_type": "code",
   "execution_count": 42,
   "id": "69623d41-d275-4ef4-8198-ab7403879c6e",
   "metadata": {},
   "outputs": [
    {
     "data": {
      "image/png": "[encoded data removed]",
      "text/plain": [
       "<Figure size 640x480 with 1 Axes>"
      ]
     },
     "metadata": {},
     "output_type": "display_data"
    }
   ],
   "source": [
    "plt.title(\"Marital_status VS conversion_status\",color=\"r\")\n",
    "sns.countplot(new_df,x=\"marital_status\",hue=\"conversion_status\")\n",
    "plt.show()"
   ]
  },
  {
   "cell_type": "markdown",
   "id": "badb391a-16aa-4014-901f-8bdc969821b1",
   "metadata": {},
   "source": [
    "# <font size = \"4\"> From above graph , we observe that the number of converted client is more have single status and the number of not_converted client is more in divorced and in married."
   ]
  },
  {
   "cell_type": "markdown",
   "id": "85941439-edb0-4874-89ef-d4caeff45faf",
   "metadata": {},
   "source": [
    "# Communication Channel"
   ]
  },
  {
   "cell_type": "code",
   "execution_count": 43,
   "id": "599c0304-13d4-469c-b0fb-31516761bba0",
   "metadata": {},
   "outputs": [
    {
     "data": {
      "text/plain": [
       "communication_channel\n",
       "mobile          5631\n",
       "unidentified    1495\n",
       "landline         393\n",
       "Name: count, dtype: int64"
      ]
     },
     "execution_count": 43,
     "metadata": {},
     "output_type": "execute_result"
    }
   ],
   "source": [
    "new_df[\"communication_channel\"].value_counts()"
   ]
  },
  {
   "cell_type": "markdown",
   "id": "379c8fdc-2170-4842-a606-c9ca8770b2e4",
   "metadata": {},
   "source": [
    "# <font size = \"4\"> value_counts is used to count the occurrences of unique values in a communication_channel column , in this there are 3 values in communication_channel coloumn."
   ]
  },
  {
   "cell_type": "code",
   "execution_count": 44,
   "id": "ae8a95c5-b3a2-4980-8d7b-69ce4c90b027",
   "metadata": {},
   "outputs": [
    {
     "data": {
      "image/png": "[encoded data removed]",
      "text/plain": [
       "<Figure size 640x480 with 1 Axes>"
      ]
     },
     "metadata": {},
     "output_type": "display_data"
    }
   ],
   "source": [
    "plt.title(\"Communication_channel VS conversion_status\",color=\"r\")\n",
    "sns.countplot(new_df,x=\"communication_channel\",hue=\"conversion_status\")\n",
    "plt.show()"
   ]
  },
  {
   "cell_type": "markdown",
   "id": "da3dc09e-9eed-4f7b-a9b5-54429b2c02dc",
   "metadata": {},
   "source": [
    "# <font size = \"4\">From above graph , we observe that the number of converted client is more who had communicate with the help of mobile and who had communicate with the help of landline,the number of converted and not_converted is approximetly same."
   ]
  },
  {
   "cell_type": "markdown",
   "id": "8bb62ec8-437f-4e56-a27f-5d1ceb5555d8",
   "metadata": {},
   "source": [
    "# Call Month"
   ]
  },
  {
   "cell_type": "code",
   "execution_count": 45,
   "id": "c29e6e50-57ef-4781-9f13-e2d3409ee8f9",
   "metadata": {},
   "outputs": [
    {
     "data": {
      "text/plain": [
       "call_month\n",
       "May          13766\n",
       "July          6895\n",
       "August        6247\n",
       "June          5341\n",
       "November      3970\n",
       "April         2932\n",
       "February      2649\n",
       "January       1403\n",
       "October        738\n",
       "September      579\n",
       "March          477\n",
       "December       214\n",
       "Name: count, dtype: int64"
      ]
     },
     "execution_count": 45,
     "metadata": {},
     "output_type": "execute_result"
    }
   ],
   "source": [
    "df[\"call_month\"].value_counts()"
   ]
  },
  {
   "cell_type": "markdown",
   "id": "6f5be248-1f40-45df-98fa-9c67dd771a9f",
   "metadata": {},
   "source": [
    "# <font size = \"4\"> value_counts is used to count the occurrences of unique values in a call_month column , in this there are 12 values in communication_channel coloumn."
   ]
  },
  {
   "cell_type": "code",
   "execution_count": 46,
   "id": "a7781a1a-911e-4702-b78c-a125d0f606e0",
   "metadata": {},
   "outputs": [
    {
     "data": {
      "image/png": "[encoded data removed]",
      "text/plain": [
       "<Figure size 640x480 with 1 Axes>"
      ]
     },
     "metadata": {},
     "output_type": "display_data"
    }
   ],
   "source": [
    "plt.title(\"Call_Month VS conversion_status\",color=\"r\")\n",
    "sns.countplot(new_df,x=\"call_month\",hue=\"conversion_status\")\n",
    "plt.xticks(rotation=90)\n",
    "plt.show()"
   ]
  },
  {
   "cell_type": "markdown",
   "id": "c175fcb0-c5b2-43ab-8fb4-9a9d81b80710",
   "metadata": {},
   "source": [
    "# <font size = \"4\"> Here we find the countplot of call_month according to conversion_status which is our target coloumn."
   ]
  },
  {
   "cell_type": "markdown",
   "id": "ec63b46f-523e-4391-a468-c959541a85ec",
   "metadata": {},
   "source": [
    "# Previous Campain Outcome"
   ]
  },
  {
   "cell_type": "code",
   "execution_count": 47,
   "id": "0353fc75-9cf4-431e-aed7-99c1bfc96409",
   "metadata": {},
   "outputs": [
    {
     "data": {
      "text/plain": [
       "previous_campaign_outcome\n",
       "unidentified     36959\n",
       "unsuccessful      4901\n",
       "other_outcome     1840\n",
       "successful        1511\n",
       "Name: count, dtype: int64"
      ]
     },
     "execution_count": 47,
     "metadata": {},
     "output_type": "execute_result"
    }
   ],
   "source": [
    "df[\"previous_campaign_outcome\"].value_counts()"
   ]
  },
  {
   "cell_type": "markdown",
   "id": "d8548157-7559-46ee-bf07-de88fefb3656",
   "metadata": {},
   "source": [
    "# <font size = \"4\"> value_counts is used to count the occurrences of unique values in a previous_campaign_outcome column , in this there are 4 values in communication_channel coloumn."
   ]
  },
  {
   "cell_type": "code",
   "execution_count": 48,
   "id": "51551325-600d-4dba-b6fe-3c25f5a0f36c",
   "metadata": {},
   "outputs": [
    {
     "data": {
      "image/png": "[encoded data removed]",
      "text/plain": [
       "<Figure size 640x480 with 1 Axes>"
      ]
     },
     "metadata": {},
     "output_type": "display_data"
    }
   ],
   "source": [
    "plt.title(\"Previous_Campain_Outcome VS conversion_status\",color=\"r\")\n",
    "sns.countplot(new_df,x=\"previous_campaign_outcome\",hue=\"conversion_status\")\n",
    "plt.show()"
   ]
  },
  {
   "cell_type": "markdown",
   "id": "5e9963f0-a457-46ea-b0c6-da2958fb7479",
   "metadata": {},
   "source": [
    "# <font size = \"4\"> Here we find the countplot of  previous_campaign_outcome according to conversion_status which is our target coloumn."
   ]
  },
  {
   "cell_type": "code",
   "execution_count": 49,
   "id": "a462f43f-7933-405f-ac8d-a0f0bbde3183",
   "metadata": {},
   "outputs": [],
   "source": [
    "from sklearn.preprocessing import LabelEncoder"
   ]
  },
  {
   "cell_type": "markdown",
   "id": "aa756ba2-6455-4725-b381-9161e52823b3",
   "metadata": {},
   "source": [
    "# <font size = \"4\"> Label encoding is a technique used in machine learning to convert categorical variables into numerical format."
   ]
  },
  {
   "cell_type": "code",
   "execution_count": 50,
   "id": "f104ab86-f1c2-46b5-9c6a-228b197fc90b",
   "metadata": {},
   "outputs": [],
   "source": [
    "le = LabelEncoder()"
   ]
  },
  {
   "cell_type": "markdown",
   "id": "4e3137ab-a24d-44ef-9a64-c0c8471d74e3",
   "metadata": {},
   "source": [
    "# <font size = \"4\"> We have need to convert the occupation,education_level,marital_status,communication_channel and previous_campaign_outcome coloumn in number datatype. \n",
    "### In this coloumns we use nominal encoder because there is no any priority in coloumns."
   ]
  },
  {
   "cell_type": "code",
   "execution_count": 51,
   "id": "9be56bb2-7be4-4053-8be7-cd504345bd5a",
   "metadata": {},
   "outputs": [
    {
     "data": {
      "text/plain": [
       "array([ 1,  3, 10, ...,  7, 10,  5])"
      ]
     },
     "execution_count": 51,
     "metadata": {},
     "output_type": "execute_result"
    }
   ],
   "source": [
    "le.fit_transform(new_df[\"occupation\"])"
   ]
  },
  {
   "cell_type": "code",
   "execution_count": 52,
   "id": "493131a5-02ff-4408-a087-474caf49b217",
   "metadata": {},
   "outputs": [],
   "source": [
    "new_df[\"occupation\"] = le.fit_transform(new_df[\"occupation\"])"
   ]
  },
  {
   "cell_type": "code",
   "execution_count": 53,
   "id": "8fe8b83e-f357-4766-a3e2-dc3e8633932e",
   "metadata": {},
   "outputs": [
    {
     "data": {
      "text/plain": [
       "array([0, 0, 2, ..., 1, 2, 2])"
      ]
     },
     "execution_count": 53,
     "metadata": {},
     "output_type": "execute_result"
    }
   ],
   "source": [
    "le.fit_transform(new_df[\"education_level\"])"
   ]
  },
  {
   "cell_type": "code",
   "execution_count": 54,
   "id": "66bef53e-5399-4bfa-9f2c-9c83e795ed20",
   "metadata": {},
   "outputs": [],
   "source": [
    "new_df[\"education_level\"] = le.fit_transform(new_df[\"education_level\"])"
   ]
  },
  {
   "cell_type": "code",
   "execution_count": 55,
   "id": "2d390a3e-b367-4b16-9b4e-e63a7c64c53f",
   "metadata": {},
   "outputs": [
    {
     "data": {
      "text/plain": [
       "array([2, 0, 1, ..., 1, 2, 0])"
      ]
     },
     "execution_count": 55,
     "metadata": {},
     "output_type": "execute_result"
    }
   ],
   "source": [
    "le.fit_transform(new_df[\"marital_status\"])"
   ]
  },
  {
   "cell_type": "code",
   "execution_count": 56,
   "id": "a7066e7e-a2f6-4060-bb14-512d095901fe",
   "metadata": {},
   "outputs": [],
   "source": [
    "new_df[\"marital_status\"] = le.fit_transform(new_df[\"marital_status\"])"
   ]
  },
  {
   "cell_type": "code",
   "execution_count": 57,
   "id": "5db07a66-f177-4ad0-ac77-a717030f4db5",
   "metadata": {},
   "outputs": [
    {
     "data": {
      "text/plain": [
       "array([1, 1, 2, ..., 0, 1, 1])"
      ]
     },
     "execution_count": 57,
     "metadata": {},
     "output_type": "execute_result"
    }
   ],
   "source": [
    "le.fit_transform(new_df[\"communication_channel\"])"
   ]
  },
  {
   "cell_type": "code",
   "execution_count": 58,
   "id": "53626165-3c72-4a3d-be1c-e0a4aa65afc3",
   "metadata": {},
   "outputs": [],
   "source": [
    "new_df[\"communication_channel\"] = le.fit_transform(new_df[\"communication_channel\"])"
   ]
  },
  {
   "cell_type": "code",
   "execution_count": 59,
   "id": "a7ce4657-f72c-40f8-b850-e5ceef01e949",
   "metadata": {},
   "outputs": [
    {
     "data": {
      "text/plain": [
       "array([2, 2, 2, ..., 1, 2, 2])"
      ]
     },
     "execution_count": 59,
     "metadata": {},
     "output_type": "execute_result"
    }
   ],
   "source": [
    "le.fit_transform(new_df[\"previous_campaign_outcome\"])"
   ]
  },
  {
   "cell_type": "code",
   "execution_count": 60,
   "id": "cbc07f19-d44a-460c-8632-3564840eb4dd",
   "metadata": {},
   "outputs": [],
   "source": [
    "new_df[\"previous_campaign_outcome\"] = le.fit_transform(new_df[\"previous_campaign_outcome\"])"
   ]
  },
  {
   "cell_type": "markdown",
   "id": "9b71c184-1ba8-4ac1-9835-cbd4417f24bd",
   "metadata": {},
   "source": [
    "### In above we convert all these coloumns in numeric data type .Firstly we fit the coloumn and then save the dataframe."
   ]
  },
  {
   "cell_type": "code",
   "execution_count": 61,
   "id": "c5019c9b-0618-4384-b754-2ebf1b09d5e6",
   "metadata": {},
   "outputs": [
    {
     "name": "stdout",
     "output_type": "stream",
     "text": [
      "<class 'pandas.core.frame.DataFrame'>\n",
      "Index: 7519 entries, 0 to 10577\n",
      "Data columns (total 11 columns):\n",
      " #   Column                     Non-Null Count  Dtype \n",
      "---  ------                     --------------  ----- \n",
      " 0   occupation                 7519 non-null   int32 \n",
      " 1   age                        7519 non-null   int64 \n",
      " 2   education_level            7519 non-null   int32 \n",
      " 3   marital_status             7519 non-null   int32 \n",
      " 4   communication_channel      7519 non-null   int32 \n",
      " 5   call_month                 7519 non-null   object\n",
      " 6   call_day                   7519 non-null   int64 \n",
      " 7   call_duration              7519 non-null   int64 \n",
      " 8   call_frequency             7519 non-null   int64 \n",
      " 9   previous_campaign_outcome  7519 non-null   int32 \n",
      " 10  conversion_status          7519 non-null   object\n",
      "dtypes: int32(5), int64(4), object(2)\n",
      "memory usage: 558.1+ KB\n"
     ]
    }
   ],
   "source": [
    "new_df.info()"
   ]
  },
  {
   "cell_type": "markdown",
   "id": "6407ef08-f2ea-4ecd-8a35-c6b03aa48c76",
   "metadata": {},
   "source": [
    "### Here we convert the data type of all object coloumn into integer coloumn , but the call_month and conversion_status is in object dtype.\n",
    "### conversion_status is our output coloumn so we have not need to convert it. \n",
    "### and in call_month we use ordinal encoding."
   ]
  },
  {
   "cell_type": "code",
   "execution_count": 62,
   "id": "ff8a6e09-88ee-46ca-98c6-d36c124c2f52",
   "metadata": {},
   "outputs": [
    {
     "data": {
      "text/plain": [
       "call_month\n",
       "May          1900\n",
       "July          915\n",
       "August        863\n",
       "June          826\n",
       "November      683\n",
       "April         665\n",
       "February      538\n",
       "October       319\n",
       "September     259\n",
       "January       236\n",
       "March         225\n",
       "December       90\n",
       "Name: count, dtype: int64"
      ]
     },
     "execution_count": 62,
     "metadata": {},
     "output_type": "execute_result"
    }
   ],
   "source": [
    "new_df[\"call_month\"].value_counts()"
   ]
  },
  {
   "cell_type": "markdown",
   "id": "ee004a8a-4dd5-4b1c-9d02-4e15089861db",
   "metadata": {},
   "source": [
    "# <font size = \"4\"> In coloumn call_month,there are 12 categoried which are the name of month.we have to convert it in numbers."
   ]
  },
  {
   "cell_type": "code",
   "execution_count": 63,
   "id": "255a7c6b-2f7e-4f82-b17a-d3209d8ed9d8",
   "metadata": {},
   "outputs": [],
   "source": [
    "custom_mapping = {\"January\":1 , \"February\":2 , \"March\":3, \"April\":4, \"May\":5, \"June\":6, \"July\":7, \"August\":8, \"September\":9, \n",
    "                  \"October\":10, \"November\":11 ,\"December\":12}"
   ]
  },
  {
   "cell_type": "markdown",
   "id": "d84d381d-f4cd-40ba-9b06-168fa058cf0b",
   "metadata": {},
   "source": [
    "# <font size = \"4\"> Here we create a directory named custom_mapping"
   ]
  },
  {
   "cell_type": "code",
   "execution_count": 64,
   "id": "933cedf9-680f-48a5-b905-22b2b31ab60f",
   "metadata": {},
   "outputs": [],
   "source": [
    "new_df[\"call_month\"]= list(map(custom_mapping.get,new_df[\"call_month\"]))"
   ]
  },
  {
   "cell_type": "markdown",
   "id": "45b89672-eb62-4246-96b4-a485b03bef74",
   "metadata": {},
   "source": [
    "# <font size = \"4\"> .get() method is a built-in method used with dictionaries. It's commonly used to retrieve the value associated with a specified key in a dictionary.\n",
    "#### We get the values in directory and map & list them and save it."
   ]
  },
  {
   "cell_type": "code",
   "execution_count": 65,
   "id": "c876e117-399c-4bb0-aa8e-883723da9e4c",
   "metadata": {},
   "outputs": [
    {
     "data": {
      "text/plain": [
       "occupation                   0\n",
       "age                          0\n",
       "education_level              0\n",
       "marital_status               0\n",
       "communication_channel        0\n",
       "call_month                   0\n",
       "call_day                     0\n",
       "call_duration                0\n",
       "call_frequency               0\n",
       "previous_campaign_outcome    0\n",
       "conversion_status            0\n",
       "dtype: int64"
      ]
     },
     "execution_count": 65,
     "metadata": {},
     "output_type": "execute_result"
    }
   ],
   "source": [
    "new_df.isna().sum()"
   ]
  },
  {
   "cell_type": "markdown",
   "id": "74834ad4-c3bd-43e3-8d9f-14bc95c34340",
   "metadata": {},
   "source": [
    "# <font size = \"4\"> Here we check the null values in our dataframe. There is no any null values in our df."
   ]
  },
  {
   "cell_type": "markdown",
   "id": "eade8d5f-8f29-4139-abf4-eb5513e3b6e0",
   "metadata": {},
   "source": [
    "## Creating Models"
   ]
  },
  {
   "cell_type": "code",
   "execution_count": 66,
   "id": "5e8c102b-6a86-4c66-99ef-2d58e17be8f7",
   "metadata": {},
   "outputs": [],
   "source": [
    "X=new_df.drop(\"conversion_status\",axis=1)\n",
    "y=new_df[\"conversion_status\"]"
   ]
  },
  {
   "cell_type": "markdown",
   "id": "5272821a-9a2d-4f8d-8be6-4a95cc9f11e2",
   "metadata": {},
   "source": [
    "# <font size = \"4\"> where \"X\" represents the features and \"y\" represents the target variable."
   ]
  },
  {
   "cell_type": "code",
   "execution_count": 67,
   "id": "7c2314f7-5e5f-4516-a4cd-470982e91f5a",
   "metadata": {},
   "outputs": [],
   "source": [
    "X_train,X_test,y_train,y_test=train_test_split(X,y,test_size=0.25,random_state=56)"
   ]
  },
  {
   "cell_type": "markdown",
   "id": "a0c3e3e8-2646-4a05-8cce-44411bd0e592",
   "metadata": {},
   "source": [
    "# <font size = \"4\"> Train_test_split splitting the available dataset into two subsets: one for training the model (the training set) and the other for evaluating its performance (the test set). "
   ]
  },
  {
   "cell_type": "markdown",
   "id": "2e5deba7-e6f4-4bf4-8d1d-5ad368fbf86d",
   "metadata": {},
   "source": [
    "# <font size = \"4\"> Here,We give 25% data for testing and 75% data for Training."
   ]
  },
  {
   "cell_type": "code",
   "execution_count": 68,
   "id": "8a6a6c3f-1276-4a55-bf3e-e2ef5326dca2",
   "metadata": {},
   "outputs": [],
   "source": [
    "scalar =StandardScaler()"
   ]
  },
  {
   "cell_type": "code",
   "execution_count": 69,
   "id": "007099fa-2897-4ab2-b259-100bbf5bc008",
   "metadata": {},
   "outputs": [],
   "source": [
    "X_train = scalar.fit_transform(X_train)"
   ]
  },
  {
   "cell_type": "code",
   "execution_count": 70,
   "id": "9448e89c-eda6-4855-9ac8-99c13908ae11",
   "metadata": {},
   "outputs": [],
   "source": [
    "X_test = scalar.transform(X_test)"
   ]
  },
  {
   "cell_type": "markdown",
   "id": "547d7c4f-eee7-4a2a-ae35-6630282449ff",
   "metadata": {},
   "source": [
    "# <font size = \"4\"> StandardScaler is a widely used preprocessing technique in machine learning for standardizing the scale of features, improving model performance, and ensuring compatibility with various machine learning algorithms. It is often applied as a preprocessing step before training a machine learning model to enhance its performance and stability."
   ]
  },
  {
   "cell_type": "markdown",
   "id": "647a168d-ea3f-4050-a0de-55d3d127d737",
   "metadata": {},
   "source": [
    "## Generating Models"
   ]
  },
  {
   "cell_type": "code",
   "execution_count": 71,
   "id": "35e3b9a5-de8f-46a3-aeba-0e07fdeec768",
   "metadata": {},
   "outputs": [],
   "source": [
    "lo = LogisticRegression()\n",
    "dtc = DecisionTreeClassifier()\n",
    "knc = KNeighborsClassifier(n_neighbors=3)\n",
    "svc = SVC(kernel=\"linear\")"
   ]
  },
  {
   "cell_type": "markdown",
   "id": "c872daa5-95b1-4224-8f94-9691eb7c94d3",
   "metadata": {},
   "source": [
    "# <font size = \"4\"> Here,We create a list of model name,score,accuracy score ,confusion matrix and classification score with the help of for loop."
   ]
  },
  {
   "cell_type": "code",
   "execution_count": 72,
   "id": "b177c007-962e-4d9a-89eb-e190995045a5",
   "metadata": {},
   "outputs": [],
   "source": [
    "d = []\n",
    "for i in [lo,dtc,knc,svc]:\n",
    "    i.fit(X_train, y_train)\n",
    "    y_pred = i.predict(X_test)\n",
    "    score=i.score(X_train,y_train)\n",
    "    ac=accuracy_score(y_test,y_pred)\n",
    "    cm=confusion_matrix(y_test, y_pred)\n",
    "    cr=classification_report(y_test,y_pred)\n",
    "    d.append({\"Model\":i,\"Score\":score, \"Accuracy Score\":ac,\"confusion_matrix\":cm,\"classification_report\":cr})"
   ]
  },
  {
   "cell_type": "code",
   "execution_count": 73,
   "id": "1f4b8096-b83b-4031-87fa-6221b9610426",
   "metadata": {},
   "outputs": [],
   "source": [
    "### Creating dataframe \n",
    "model_details = pd.DataFrame(d)"
   ]
  },
  {
   "cell_type": "code",
   "execution_count": 74,
   "id": "28c72065-d365-4fd7-97de-289ae295d832",
   "metadata": {},
   "outputs": [
    {
     "data": {
      "text/html": [
       "<div>\n",
       "<style scoped>\n",
       "    .dataframe tbody tr th:only-of-type {\n",
       "        vertical-align: middle;\n",
       "    }\n",
       "\n",
       "    .dataframe tbody tr th {\n",
       "        vertical-align: top;\n",
       "    }\n",
       "\n",
       "    .dataframe thead th {\n",
       "        text-align: right;\n",
       "    }\n",
       "</style>\n",
       "<table border=\"1\" class=\"dataframe\">\n",
       "  <thead>\n",
       "    <tr style=\"text-align: right;\">\n",
       "      <th></th>\n",
       "      <th>Model</th>\n",
       "      <th>Score</th>\n",
       "      <th>Accuracy Score</th>\n",
       "      <th>confusion_matrix</th>\n",
       "      <th>classification_report</th>\n",
       "    </tr>\n",
       "  </thead>\n",
       "  <tbody>\n",
       "    <tr>\n",
       "      <th>0</th>\n",
       "      <td>LogisticRegression()</td>\n",
       "      <td>0.729562</td>\n",
       "      <td>0.748404</td>\n",
       "      <td>[[633, 250], [223, 774]]</td>\n",
       "      <td>precision    recall  f1-score  ...</td>\n",
       "    </tr>\n",
       "    <tr>\n",
       "      <th>1</th>\n",
       "      <td>DecisionTreeClassifier()</td>\n",
       "      <td>1.000000</td>\n",
       "      <td>0.765426</td>\n",
       "      <td>[[652, 231], [210, 787]]</td>\n",
       "      <td>precision    recall  f1-score  ...</td>\n",
       "    </tr>\n",
       "    <tr>\n",
       "      <th>2</th>\n",
       "      <td>KNeighborsClassifier(n_neighbors=3)</td>\n",
       "      <td>0.876397</td>\n",
       "      <td>0.764894</td>\n",
       "      <td>[[631, 252], [190, 807]]</td>\n",
       "      <td>precision    recall  f1-score  ...</td>\n",
       "    </tr>\n",
       "    <tr>\n",
       "      <th>3</th>\n",
       "      <td>SVC(kernel='linear')</td>\n",
       "      <td>0.737187</td>\n",
       "      <td>0.747872</td>\n",
       "      <td>[[638, 245], [229, 768]]</td>\n",
       "      <td>precision    recall  f1-score  ...</td>\n",
       "    </tr>\n",
       "  </tbody>\n",
       "</table>\n",
       "</div>"
      ],
      "text/plain": [
       "                                 Model     Score  Accuracy Score  \\\n",
       "0                 LogisticRegression()  0.729562        0.748404   \n",
       "1             DecisionTreeClassifier()  1.000000        0.765426   \n",
       "2  KNeighborsClassifier(n_neighbors=3)  0.876397        0.764894   \n",
       "3                 SVC(kernel='linear')  0.737187        0.747872   \n",
       "\n",
       "           confusion_matrix                              classification_report  \n",
       "0  [[633, 250], [223, 774]]                 precision    recall  f1-score  ...  \n",
       "1  [[652, 231], [210, 787]]                 precision    recall  f1-score  ...  \n",
       "2  [[631, 252], [190, 807]]                 precision    recall  f1-score  ...  \n",
       "3  [[638, 245], [229, 768]]                 precision    recall  f1-score  ...  "
      ]
     },
     "execution_count": 74,
     "metadata": {},
     "output_type": "execute_result"
    }
   ],
   "source": [
    "model_details"
   ]
  },
  {
   "cell_type": "markdown",
   "id": "de85e9fb-c38f-488e-b9d2-23049c1bb4cb",
   "metadata": {},
   "source": [
    "#### The models include Logistic Regression, Decision Tree Classifier, K-Nearest Neighbors (KNN) Classifier, and Support Vector Classifier (SVC) with a linear kernel.\n",
    "#### The Decision Tree Classifier achieved the highest score of 1.000 and the highest accuracy score of 0.776 among the models evaluated.\n",
    "#### Logistic Regression, KNN, and SVC achieved scores ranging from 0.741 to 0.745 and accuracy scores ranging from 0.721 to 0.729.729.29."
   ]
  },
  {
   "cell_type": "markdown",
   "id": "6737cb2f-2bc7-4149-a615-c4bc2277ce94",
   "metadata": {},
   "source": [
    "### Accuracy Score:\n",
    "#### Accuracy score represents the overall correctness of the model's predictions.\n",
    "#### Decision Tree Classifier achieved the highest accuracy score of 0.776, indicating that it correctly classified 77.6% of the instances in the dataset.\n",
    "#### Logistic Regression, KNN, and SVC achieved accuracy scores ranging from 0.721 to 0.729."
   ]
  },
  {
   "cell_type": "markdown",
   "id": "460300df-3fed-4d02-96fd-4ad4ef64f037",
   "metadata": {},
   "source": [
    "####  While the Decision Tree Classifier achieved the highest accuracy score, it's important to consider other factors such as overfitting.\n",
    "#### Logistic Regression and SVC with a linear kernel have similar scores and accuracy scores, indicating comparable performance.\n",
    "#### KNN performs slightly worse in terms of accuracy compared to the other models but still demonstrates reasonable performance."
   ]
  },
  {
   "cell_type": "markdown",
   "id": "b03ff8b6-48bd-4348-95d7-3aba0daa81a1",
   "metadata": {},
   "source": [
    " ### The Decision Tree Classifier appears to be the best-performing model based on the provided metrics, achieving the highest accuracy score. \n",
    " ### so we check the confusion_matrix and classification_report of decision tree classifier."
   ]
  },
  {
   "cell_type": "code",
   "execution_count": 75,
   "id": "b2d6577d-f03d-4c71-b4b6-5822f1f5c2a6",
   "metadata": {},
   "outputs": [
    {
     "name": "stdout",
     "output_type": "stream",
     "text": [
      "[[652 231]\n",
      " [210 787]]\n"
     ]
    }
   ],
   "source": [
    "print(model_details.iloc[1][\"confusion_matrix\"])"
   ]
  },
  {
   "cell_type": "markdown",
   "id": "4b973015-905a-41ca-8cb5-911bf2727afe",
   "metadata": {},
   "source": [
    "* <font size = \"4\">True Positives (TP): Instances correctly predicted as positive(i.e Actual converted and also predict converted)\n",
    "* <font size = \"4\">True Negatives (TN): Instances correctly predicted as negative(i.e Actual not_converted and also predict not converted)\n",
    "* <font size = \"4\">False Positives (FP : Type 1 Error): Instances incorrectly predicted as positive(i.e. Actual not_converted and predict Converted)\n",
    "* <font size = \"4\">False Negatives (FN: Type 2 Errosr): Instances incorrectly predicted as negative(i.e. Actual converted and predict Not_converted)\n",
    "#### This confusion matrix suggests that the model has fairly good performance."
   ]
  },
  {
   "cell_type": "code",
   "execution_count": 76,
   "id": "ca6fa1e9-b8f1-44d7-a951-45c2f45b6ff5",
   "metadata": {},
   "outputs": [
    {
     "name": "stdout",
     "output_type": "stream",
     "text": [
      "               precision    recall  f1-score   support\n",
      "\n",
      "    converted       0.76      0.74      0.75       883\n",
      "not_converted       0.77      0.79      0.78       997\n",
      "\n",
      "     accuracy                           0.77      1880\n",
      "    macro avg       0.76      0.76      0.76      1880\n",
      " weighted avg       0.77      0.77      0.77      1880\n",
      "\n"
     ]
    }
   ],
   "source": [
    "print(model_details.iloc[1][\"classification_report\"])"
   ]
  },
  {
   "cell_type": "markdown",
   "id": "6008da0b-4f8b-48b3-a361-f5c082d97e8a",
   "metadata": {},
   "source": [
    "### A classification report provides a detailed evaluation of a classification model's performance, including precision, recall, F1-score, and support for each class.\n",
    "### For Decision Tree Classifier\n",
    "* <font size = \"4\">The model has relatively high precision, recall, and F1-score for both classes.\n",
    "* <font size = \"4\">The performance is slightly better for the \"not_converted\" class based on precision, recall, and F1-score.*    \n",
    "* <font size = \"4\">The accuracy of the model is 78%, indicating its overall correctness in classifying instance\n"
   ]
  },
  {
   "cell_type": "markdown",
   "id": "b349c36b-8e7d-445f-8008-57688cb072d2",
   "metadata": {},
   "source": [
    "## K-Fold Cross Validation Technique"
   ]
  },
  {
   "cell_type": "code",
   "execution_count": 77,
   "id": "4bf9af6c-1413-4cbc-8706-80c6f67f2b0f",
   "metadata": {},
   "outputs": [],
   "source": [
    "from sklearn.model_selection import cross_val_score, KFold"
   ]
  },
  {
   "cell_type": "markdown",
   "id": "c945673f-0559-4df6-97aa-1d45210e92da",
   "metadata": {},
   "source": [
    "# <font size = \"4\">K-fold cross-validation is a valuable technique for evaluating and comparing machine learning models.Here we use k-fold cross validation for decision tree classifier model to check the performance compared to train test split."
   ]
  },
  {
   "cell_type": "code",
   "execution_count": 78,
   "id": "7ff0cd12-06a9-4ac2-a049-54d360952686",
   "metadata": {},
   "outputs": [],
   "source": [
    "dtc1 = DecisionTreeClassifier(max_depth=5)"
   ]
  },
  {
   "cell_type": "markdown",
   "id": "318b1219-981e-4222-9448-f49770a94ef2",
   "metadata": {},
   "source": [
    "# <font size = \"4\"> Here,we make one other model to check and give the depth of decision tree is 5."
   ]
  },
  {
   "cell_type": "code",
   "execution_count": 79,
   "id": "a8a0a805-02c8-4a56-90ee-ce93e6254d3a",
   "metadata": {},
   "outputs": [],
   "source": [
    "kfold = KFold(n_splits=5, shuffle=True, random_state=42)"
   ]
  },
  {
   "cell_type": "markdown",
   "id": "785c0e84-2912-49dc-bef2-de0dc0a54c3d",
   "metadata": {},
   "source": [
    "# <font size = \"4\"> We are initializing a K-Fold cross-validation object with 5 splits, shuffling the data before splitting, and setting a random state for reproducibility."
   ]
  },
  {
   "cell_type": "code",
   "execution_count": 80,
   "id": "ad5e1618-21a3-43a1-8ade-c99d54082634",
   "metadata": {},
   "outputs": [],
   "source": [
    "cv_scores = cross_val_score(dtc1, X, y, cv=kfold, scoring='accuracy')"
   ]
  },
  {
   "cell_type": "code",
   "execution_count": 81,
   "id": "c64bd15c-1111-4ed3-b95f-e92ad6495396",
   "metadata": {},
   "outputs": [
    {
     "data": {
      "text/plain": [
       "array([0.76263298, 0.76728723, 0.76662234, 0.77593085, 0.74717232])"
      ]
     },
     "execution_count": 81,
     "metadata": {},
     "output_type": "execute_result"
    }
   ],
   "source": [
    "cv_scores"
   ]
  },
  {
   "cell_type": "code",
   "execution_count": 82,
   "id": "8ecbbe82-d644-4a6c-9ff0-ac53d1f33e86",
   "metadata": {},
   "outputs": [
    {
     "data": {
      "text/plain": [
       "0.7639291452555882"
      ]
     },
     "execution_count": 82,
     "metadata": {},
     "output_type": "execute_result"
    }
   ],
   "source": [
    "cv_scores.mean()"
   ]
  },
  {
   "cell_type": "markdown",
   "id": "0f1e732d-c7ec-4550-b3e8-b43d1fbdabd9",
   "metadata": {},
   "source": [
    "# <font size = \"4\">Here , we got the 76% acuuracy which nearby our accuarcy.so our train test split accuracy is correct."
   ]
  },
  {
   "cell_type": "markdown",
   "id": "5fb20658-d27e-4909-9843-fb225d76c297",
   "metadata": {},
   "source": [
    "#### Feature importance helps in understanding which features have the most significant impact on the model's predictions."
   ]
  },
  {
   "cell_type": "code",
   "execution_count": 83,
   "id": "a3c0a942-7823-46cc-a759-0da3dfcdda0f",
   "metadata": {},
   "outputs": [],
   "source": [
    "feature_importance = dtc.feature_importances_"
   ]
  },
  {
   "cell_type": "code",
   "execution_count": 84,
   "id": "568fdd82-4e3f-4889-ad1b-396c0c5542c7",
   "metadata": {},
   "outputs": [
    {
     "data": {
      "text/plain": [
       "array([0.04625885, 0.10180423, 0.03380623, 0.02712836, 0.08677047,\n",
       "       0.12729944, 0.12489392, 0.33902214, 0.02925649, 0.08375987])"
      ]
     },
     "execution_count": 84,
     "metadata": {},
     "output_type": "execute_result"
    }
   ],
   "source": [
    "feature_importance"
   ]
  },
  {
   "cell_type": "markdown",
   "id": "0af3a4ee-b998-482d-9183-a3bbb94dd428",
   "metadata": {},
   "source": [
    "# <font size = \"4\"> Higher values indicate greater importance. In this array the highest value is 0.3 so our call_duration coloumn is more correct coloumn for our Decision Tree Classifier model.and the lowest accuracy is 0.022, so our education level coloumn is not important for our Decision Tree Classifier model."
   ]
  },
  {
   "cell_type": "markdown",
   "id": "241dfd43-6360-4a73-95a2-40cd7b25f7cc",
   "metadata": {},
   "source": [
    "## Model Deployment"
   ]
  },
  {
   "cell_type": "code",
   "execution_count": 85,
   "id": "b0d968da-df1d-4744-9f53-804b63953a3f",
   "metadata": {},
   "outputs": [],
   "source": [
    "import joblib"
   ]
  },
  {
   "cell_type": "code",
   "execution_count": 86,
   "id": "02d782b4-833e-4ec3-87fe-2ecc643e5617",
   "metadata": {},
   "outputs": [
    {
     "data": {
      "text/plain": [
       "['Bank_Marketing_Dataset_joblib']"
      ]
     },
     "execution_count": 86,
     "metadata": {},
     "output_type": "execute_result"
    }
   ],
   "source": [
    "joblib.dump(dtc, \"Bank_Marketing_Dataset_joblib\") "
   ]
  },
  {
   "cell_type": "code",
   "execution_count": null,
   "id": "ac39952c-f140-4095-9ad7-3e595b87d010",
   "metadata": {},
   "outputs": [],
   "source": []
  }
 ],
 "metadata": {
  "kernelspec": {
   "display_name": "Python 3 (ipykernel)",
   "language": "python",
   "name": "python3"
  },
  "language_info": {
   "codemirror_mode": {
    "name": "ipython",
    "version": 3
   },
   "file_extension": ".py",
   "mimetype": "text/x-python",
   "name": "python",
   "nbconvert_exporter": "python",
   "pygments_lexer": "ipython3",
   "version": "3.12.8"
  }
 },
 "nbformat": 4,
 "nbformat_minor": 5
}
